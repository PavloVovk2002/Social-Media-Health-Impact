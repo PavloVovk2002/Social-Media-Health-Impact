{
 "cells": [
  {
   "cell_type": "code",
   "execution_count": 12,
   "metadata": {},
   "outputs": [],
   "source": [
    "import pandas as pd\n",
    "from sklearn.preprocessing import StandardScaler\n",
    "from sklearn.neighbors import LocalOutlierFactor"
   ]
  },
  {
   "cell_type": "code",
   "execution_count": 14,
   "metadata": {},
   "outputs": [],
   "source": [
    "data_df = pd.read_csv('../data/cleaned/South_East_Asia_Social_Media_MentalHealth_cleaned.csv')"
   ]
  },
  {
   "cell_type": "code",
   "execution_count": 36,
   "metadata": {},
   "outputs": [
    {
     "name": "stdout",
     "output_type": "stream",
     "text": [
      "Total number of anomalies detected: 341\n",
      "Anomalies detected:\n",
      "        Daily SM Usage (hrs)  Peer Comparison Frequency (1-10)  \\\n",
      "1554                   8.96                                 8   \n",
      "1942                   3.34                                 6   \n",
      "4267                   2.60                                 7   \n",
      "4316                  11.65                                 5   \n",
      "6225                   5.06                                 5   \n",
      "6920                  10.10                                 5   \n",
      "8772                   1.90                                 6   \n",
      "9100                  12.00                                 7   \n",
      "10275                  2.63                                 7   \n",
      "10627                 11.06                                 5   \n",
      "\n",
      "       Social Anxiety Level (1-10)  \n",
      "1554                             2  \n",
      "1942                             3  \n",
      "4267                             9  \n",
      "4316                             7  \n",
      "6225                             7  \n",
      "6920                             8  \n",
      "8772                             1  \n",
      "9100                             5  \n",
      "10275                            9  \n",
      "10627                            7  \n"
     ]
    }
   ],
   "source": [
    "columns = data_df[['Daily SM Usage (hrs)', 'Peer Comparison Frequency (1-10)', 'Social Anxiety Level (1-10)']]\n",
    "\n",
    "scaler = StandardScaler()\n",
    "scaled_columns = scaler.fit_transform(columns)\n",
    "\n",
    "lof = LocalOutlierFactor(n_neighbors=10, contamination=0.001)\n",
    "\n",
    "predictions = lof.fit_predict(scaled_columns)\n",
    "data_df['anomaly'] = predictions\n",
    "\n",
    "anomalies = data_df[data_df['anomaly'] == -1]\n",
    "\n",
    "print(\"Total number of anomalies detected:\", len(anomalies))\n",
    "print(\"Anomalies detected:\\n\", anomalies[['Daily SM Usage (hrs)', 'Peer Comparison Frequency (1-10)', 'Social Anxiety Level (1-10)']].head(10))"
   ]
  },
  {
   "cell_type": "markdown",
   "metadata": {},
   "source": [
    "The steps that local outlier factor algorithm follow to identify potential anomalies are listed below.\n",
    "1) Select the columns from the dataset to investigate.\n",
    "2) If the data contains categorical values then convert to numeric values by encoding.\n",
    "3) Scale the columns selected.\n",
    "4) Create the local outlier factor.\n",
    "5) Predict the anomalies in the model.\n",
    "6) Check the rows with anomalies detected.\n",
    "7) Print the total number of anomalies detected.\n",
    "8) Print the rows with the detected anomalies."
   ]
  },
  {
   "cell_type": "markdown",
   "metadata": {},
   "source": [
    "The total of 341 anomalies were detected using local outlier factor algorithm. The attributes that the algorithm was implemented on were daily social media usage, peer comparison frequency, and social anxiety level. The potential anomalies detected were a user with high daily social media usage and high peer comparison frequency has low social anxiety level and a user with low daily social media usage has high peer comparison frequency and high social anxiety level. This could be due to the user might be able to manage anxiety well and the other anomaly could be the user avoids using social media a lot but still has a hard time to manage social anxiety."
   ]
  }
 ],
 "metadata": {
  "kernelspec": {
   "display_name": "Python 3",
   "language": "python",
   "name": "python3"
  },
  "language_info": {
   "codemirror_mode": {
    "name": "ipython",
    "version": 3
   },
   "file_extension": ".py",
   "mimetype": "text/x-python",
   "name": "python",
   "nbconvert_exporter": "python",
   "pygments_lexer": "ipython3",
   "version": "3.12.5"
  }
 },
 "nbformat": 4,
 "nbformat_minor": 2
}

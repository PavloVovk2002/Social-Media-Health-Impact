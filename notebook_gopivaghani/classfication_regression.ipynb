{
 "cells": [
  {
   "cell_type": "code",
   "execution_count": 103,
   "metadata": {},
   "outputs": [],
   "source": [
    "\n",
    "import numpy as np\n",
    "import pandas as pd\n",
    "from sklearn.model_selection import train_test_split\n",
    "from sklearn.linear_model import LinearRegression\n",
    "from sklearn.metrics import mean_squared_error, r2_score\n",
    "from sklearn.linear_model import LogisticRegression\n",
    "from sklearn.ensemble import RandomForestRegressor\n",
    "from sklearn.ensemble import RandomForestClassifier\n",
    "from sklearn.neighbors import KNeighborsRegressor\n",
    "from sklearn.metrics import classification_report, confusion_matrix"
   ]
  },
  {
   "cell_type": "code",
   "execution_count": 63,
   "metadata": {},
   "outputs": [],
   "source": [
    "data_df = pd.read_csv('../data/cleaned/South_East_Asia_Social_Media_MentalHealth_cleaned.csv')"
   ]
  },
  {
   "cell_type": "markdown",
   "metadata": {},
   "source": [
    "Experiment 1: Logistic Regression"
   ]
  },
  {
   "cell_type": "code",
   "execution_count": 88,
   "metadata": {},
   "outputs": [
    {
     "name": "stdout",
     "output_type": "stream",
     "text": [
      "              precision    recall  f1-score   support\n",
      "\n",
      "      Female       0.49      0.50      0.50     33802\n",
      "        Male       0.50      0.50      0.50     34382\n",
      "\n",
      "    accuracy                           0.50     68184\n",
      "   macro avg       0.50      0.50      0.50     68184\n",
      "weighted avg       0.50      0.50      0.50     68184\n",
      "\n"
     ]
    }
   ],
   "source": [
    "x = data_df[['Daily SM Usage (hrs)', 'Peer Comparison Frequency (1-10)']]\n",
    "y = data_df['Gender']\n",
    "\n",
    "x_train, x_test, y_train, y_test = train_test_split(x, y, test_size=0.2, random_state=42)\n",
    "\n",
    "model = LogisticRegression(max_iter=1000)\n",
    "model.fit(x_train, y_train)\n",
    "\n",
    "y_pred = model.predict(x_test)\n",
    "\n",
    "print(classification_report(y_test, y_pred))"
   ]
  },
  {
   "cell_type": "code",
   "execution_count": 94,
   "metadata": {},
   "outputs": [
    {
     "name": "stdout",
     "output_type": "stream",
     "text": [
      "              precision    recall  f1-score   support\n",
      "\n",
      "      Female       0.50      0.50      0.50     33802\n",
      "        Male       0.51      0.51      0.51     34382\n",
      "\n",
      "    accuracy                           0.50     68184\n",
      "   macro avg       0.50      0.50      0.50     68184\n",
      "weighted avg       0.50      0.50      0.50     68184\n",
      "\n"
     ]
    }
   ],
   "source": [
    "x = data_df[['Daily SM Usage (hrs)', 'Peer Comparison Frequency (1-10)']]\n",
    "y = data_df['Gender']\n",
    "\n",
    "x_train, x_test, y_train, y_test = train_test_split(x, y, test_size=0.2, random_state=42)\n",
    "\n",
    "model = RandomForestClassifier(n_estimators=42)\n",
    "model.fit(x_train, y_train)\n",
    "\n",
    "y_pred = model.predict(x_test)\n",
    "\n",
    "print(classification_report(y_test, y_pred))"
   ]
  },
  {
   "cell_type": "markdown",
   "metadata": {},
   "source": [
    "The input data used for the prediction task were daily social media usage and peer comparison frequency. The output data used for the prediction task was the gender of the user. The model did not perform well. The model had a 50% accuracy. The model does not seem to be underfitting or overfitting. The problem could be address by using the random forest classifier method. The change in model did not help and the accuracy stayed the same. The potentially change on the data side could be to add age group to the input data."
   ]
  },
  {
   "cell_type": "markdown",
   "metadata": {},
   "source": [
    "Experiment 2: Linear Regression"
   ]
  },
  {
   "cell_type": "code",
   "execution_count": 106,
   "metadata": {},
   "outputs": [
    {
     "name": "stdout",
     "output_type": "stream",
     "text": [
      "Mean Squared Error: 8.24512919838546\n",
      "R-squared: -6.621079115975981e-05\n"
     ]
    }
   ],
   "source": [
    "x = data_df[['Peer Comparison Frequency (1-10)', 'Social Anxiety Level (1-10)']]\n",
    "y = data_df['Self Confidence Impact (1-10)']\n",
    "\n",
    "x_train, x_test, y_train, y_test = train_test_split(x, y, test_size=0.2, random_state=42)\n",
    "\n",
    "model = LinearRegression()\n",
    "\n",
    "model.fit(x_train, y_train)\n",
    "\n",
    "y_pred = model.predict(x_test)\n",
    "\n",
    "mse = mean_squared_error(y_test, y_pred)\n",
    "r2 = r2_score(y_test, y_pred)\n",
    "\n",
    "print(f\"Mean Squared Error: {mse}\")\n",
    "print(f\"R-squared: {r2}\")\n"
   ]
  },
  {
   "cell_type": "code",
   "execution_count": 115,
   "metadata": {},
   "outputs": [
    {
     "name": "stdout",
     "output_type": "stream",
     "text": [
      "Mean Squared Error: 9.214921893332747\n",
      "R-squared: -0.11769407111368735\n"
     ]
    }
   ],
   "source": [
    "x = data_df[['Peer Comparison Frequency (1-10)', 'Social Anxiety Level (1-10)']]\n",
    "y = data_df['Self Confidence Impact (1-10)']\n",
    "\n",
    "x_train, x_test, y_train, y_test = train_test_split(x, y, test_size=0.2, random_state=42)\n",
    "\n",
    "knn = KNeighborsRegressor(n_neighbors = 8)\n",
    "knn.fit(x_train, y_train)\n",
    "\n",
    "y_pred = knn.predict(x_test)\n",
    "\n",
    "mse = mean_squared_error(y_test, y_pred)\n",
    "r2 = r2_score(y_test, y_pred)\n",
    "\n",
    "print(f\"Mean Squared Error: {mse}\")\n",
    "print(f\"R-squared: {r2}\")\n",
    "\n"
   ]
  },
  {
   "cell_type": "markdown",
   "metadata": {},
   "source": [
    "The input data used for the prediction task were peer comparison frequency and social anxiety level. The output data used for the prediction task  self confidence impact. The model did not perform well as the mean sqaured error was 8.245 and the r-sqaured value was -6.621e-05. The model does not seem to be underfitting or overfitting. The problem could be address by using the KNN Regression method. The change in model did not help as the mean squared error and r-sqaured value increased. The potentially change on the data side could be to add gender and sleep quality impact to the input data."
   ]
  },
  {
   "cell_type": "markdown",
   "metadata": {},
   "source": [
    "Experiment 3: Random Forest Regression"
   ]
  },
  {
   "cell_type": "code",
   "execution_count": 54,
   "metadata": {},
   "outputs": [
    {
     "name": "stdout",
     "output_type": "stream",
     "text": [
      "Mean Squared Error: 11.010449272606937\n",
      "R-squared: -0.3311826558974773\n"
     ]
    }
   ],
   "source": [
    "x = data_df[['Daily SM Usage (hrs)', 'Peer Comparison Frequency (1-10)', 'Social Anxiety Level (1-10)']]\n",
    "y = data_df['Sleep Quality Impact (1-10)']\n",
    "\n",
    "x_train, x_test, y_train, y_test = train_test_split(x, y, test_size=0.2, random_state=42)\n",
    "\n",
    "model = RandomForestRegressor(n_estimators=53)\n",
    "model.fit(x_train, y_train)\n",
    "\n",
    "y_pred = model.predict(x_test)\n",
    "\n",
    "mse = mean_squared_error(y_test, y_pred)\n",
    "r2 = r2_score(y_test, y_pred)\n",
    "\n",
    "print(f\"Mean Squared Error: {mse}\")\n",
    "print(f\"R-squared: {r2}\")"
   ]
  },
  {
   "cell_type": "code",
   "execution_count": 109,
   "metadata": {},
   "outputs": [
    {
     "name": "stdout",
     "output_type": "stream",
     "text": [
      "Mean Squared Error: 8.27123164566551\n",
      "R-squared: -6.433616974499401e-06\n"
     ]
    }
   ],
   "source": [
    "x = data_df[['Daily SM Usage (hrs)', 'Peer Comparison Frequency (1-10)', 'Social Anxiety Level (1-10)']]\n",
    "y = data_df['Sleep Quality Impact (1-10)']\n",
    "\n",
    "x_train, x_test, y_train, y_test = train_test_split(x, y, test_size=0.2, random_state=42)\n",
    "\n",
    "model = LinearRegression()\n",
    "model.fit(x_train, y_train)\n",
    "\n",
    "y_pred = model.predict(x_test)\n",
    "\n",
    "mse = mean_squared_error(y_test, y_pred)\n",
    "r2 = r2_score(y_test, y_pred)\n",
    "\n",
    "print(f\"Mean Squared Error: {mse}\")\n",
    "print(f\"R-squared: {r2}\")"
   ]
  },
  {
   "cell_type": "markdown",
   "metadata": {},
   "source": [
    "The input data used for the prediction task were daily social media usage, peer comparison frequency, and social anxiety level. The output data used for the prediction task was the sleep quality impact. The model did not perform well. The model had a mean sqaured error of 11.010 and the r-quared value of -0.331. The model does not seem to be underfitting or overfitting. The problem could be address by using the linear regression method. The change in model did help as the mean sqaured error changed to 8.271 and r-sqaured value changed to -6.434e-06. The model performance did improve but even after the change the model did not perform well. The potentially change on the data side could be to add the frequnecy of social media use to the input data."
   ]
  },
  {
   "cell_type": "markdown",
   "metadata": {},
   "source": [
    "Presentation"
   ]
  },
  {
   "cell_type": "code",
   "execution_count": null,
   "metadata": {},
   "outputs": [
    {
     "name": "stdout",
     "output_type": "stream",
     "text": [
      "Mean Squared Error: 8.284408831219354\n",
      "R-squared: -1.0975440024596494e-05\n"
     ]
    }
   ],
   "source": [
    "x = data_df[['Daily SM Usage (hrs)', 'Peer Comparison Frequency (1-10)', 'Likes Received (per post)', 'Comments Received (per post)']]\n",
    "y = data_df['Cyberbullying Experience (1-10)']\n",
    "\n",
    "x_train, x_test, y_train, y_test = train_test_split(x, y, test_size=0.2, random_state=42)\n",
    "\n",
    "model = LinearRegression()\n",
    "\n",
    "model.fit(x_train, y_train)\n",
    "\n",
    "y_pred = model.predict(x_test)\n",
    "\n",
    "mse = mean_squared_error(y_test, y_pred)\n",
    "r2 = r2_score(y_test, y_pred)\n",
    "\n",
    "print(f\"Mean Squared Error: {mse}\")\n",
    "print(f\"R-squared: {r2}\")\n"
   ]
  },
  {
   "cell_type": "code",
   "execution_count": null,
   "metadata": {},
   "outputs": [
    {
     "name": "stdout",
     "output_type": "stream",
     "text": [
      "Mean Squared Error: 8.284408831219354\n",
      "R-squared: -1.0975440024596494e-05\n"
     ]
    }
   ],
   "source": [
    "x = data_df[['Daily SM Usage (hrs)', 'Peer Comparison Frequency (1-10)', 'Likes Received (per post)', 'Comments Received (per post)']]\n",
    "y = data_df['Cyberbullying Experience (1-10)']\n",
    "\n",
    "x_train, x_test, y_train, y_test = train_test_split(x, y, test_size=0.2, random_state=42)\n",
    "\n",
    "model = RandomForestRegressor(n_estimators=42)\n",
    "model.fit(x_train, y_train)\n",
    "\n",
    "y_pred = model.predict(x_test)\n",
    "\n",
    "print(f\"Mean Squared Error: {mse}\")\n",
    "print(f\"R-squared: {r2}\")\n"
   ]
  }
 ],
 "metadata": {
  "kernelspec": {
   "display_name": "Python 3",
   "language": "python",
   "name": "python3"
  },
  "language_info": {
   "codemirror_mode": {
    "name": "ipython",
    "version": 3
   },
   "file_extension": ".py",
   "mimetype": "text/x-python",
   "name": "python",
   "nbconvert_exporter": "python",
   "pygments_lexer": "ipython3",
   "version": "3.12.5"
  }
 },
 "nbformat": 4,
 "nbformat_minor": 2
}

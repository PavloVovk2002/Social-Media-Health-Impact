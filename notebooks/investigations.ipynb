{
 "cells": [
  {
   "cell_type": "markdown",
   "metadata": {},
   "source": [
    "## Five Interesting Unexplained Observations and Hypotheses\n",
    "\n",
    "# Observation: \n",
    "Why did daily social media usage spike in rural regions compared to urban ones in the dataset?\n",
    "# Hypotheses:\n",
    "1. The lack of physical social activities in rural areas leads to increased reliance on digital platforms.\n",
    "2. Improved internet infrastructure in rural areas may have encouraged more social media use.\n",
    "3. Seasonal factors (e.g., weather or agricultural cycles) could limit outdoor activities, increasing online activity.\n",
    "# Observation: \n",
    "Why do users aged 50+ show unexpectedly high activity on platforms typically associated with younger demographics?\n",
    "# Hypotheses:\n",
    "1. A specific campaign or trend targeting older users might have increased their engagement.\n",
    "2. Family and friends encourage older users to join these platforms to stay connected.\n",
    "3. The demographic data could be skewed due to inaccurate reporting or data collection issues.\n",
    "# Observation: \n",
    "Why is there a sudden increase in anxiety levels for users in the 18-24 age group during specific months?\n",
    "# Hypotheses:\n",
    "1. Exam periods or academic pressures might coincide with these months.\n",
    "2. External global events (e.g., economic downturns or major news) may have heightened anxiety.\n",
    "3. Seasonal depression or weather conditions could influence mental health.\n",
    "# Observation: \n",
    "Why did comments-per-post values drop drastically for a specific platform while likes-per-post remained stable?\n",
    "# Hypotheses:\n",
    "1. The platform introduced algorithmic changes that deprioritized comments.\n",
    "2. Users might prefer other forms of interaction (e.g., direct messages) over public comments.\n",
    "3. Content creators may have shifted to posting less interactive content.\n",
    "# Observation: \n",
    "Why do users in the “low socioeconomic status” group report higher self-confidence impact scores compared to those in the “medium socioeconomic status” group?\n",
    "# Hypotheses:\n",
    "1. Social media might offer a platform for self-expression and confidence-building in lower socioeconomic groups.\n",
    "2. Economic hardship might lead to overreporting positive mental health impacts for self-motivation.\n",
    "3. The medium socioeconomic group could be exposed to more competitive or stressful environments online."
   ]
  },
  {
   "cell_type": "markdown",
   "metadata": {},
   "source": [
    "## Observation 3: Why is there a sudden increase in anxiety levels for users aged 18-24 during specific months?\n",
    "\n",
    "# Hypothesis Tested: \n",
    "Exam periods or academic pressures coincide with these months."
   ]
  },
  {
   "cell_type": "code",
   "execution_count": null,
   "metadata": {},
   "outputs": [],
   "source": [
    "import pandas as pd\n",
    "import matplotlib.pyplot as plt\n",
    "import seaborn as sns\n",
    "from scipy.stats import ttest_ind\n",
    "\n",
    "# Load dataset\n",
    "data = pd.read_csv(\"South_East_Asia_Social_Media_MentalHealth.csv\")\n",
    "\n",
    "# Filter data for age group 18-24\n",
    "age_group_data = data[data[\"Age Group\"] == \"18-24\"]\n",
    "\n",
    "# Group by month and calculate mean anxiety levels\n",
    "monthly_anxiety = age_group_data.groupby(\"Month\")[\"Anxiety Levels (1-10)\"].mean()\n",
    "\n",
    "# Plot the results\n",
    "plt.figure(figsize=(10, 6))\n",
    "sns.lineplot(x=monthly_anxiety.index, y=monthly_anxiety.values, marker=\"o\")\n",
    "plt.title(\"Monthly Anxiety Levels for Age Group 18-24\")\n",
    "plt.xlabel(\"Month\")\n",
    "plt.ylabel(\"Mean Anxiety Level\")\n",
    "plt.show()\n",
    "\n",
    "# Hypothesis test: Exam period vs. non-exam period anxiety levels\n",
    "exam_months = [\"May\", \"December\"]\n",
    "exam_data = age_group_data[age_group_data[\"Month\"].isin(exam_months)][\"Anxiety Levels (1-10)\"]\n",
    "non_exam_data = age_group_data[~age_group_data[\"Month\"].isin(exam_months)][\"Anxiety Levels (1-10)\"]\n",
    "\n",
    "# Perform a t-test\n",
    "t_stat, p_value = ttest_ind(exam_data, non_exam_data)\n",
    "print(f\"T-statistic: {t_stat}, P-value: {p_value}\")\n"
   ]
  },
  {
   "cell_type": "markdown",
   "metadata": {},
   "source": [
    "## Finding\n",
    "\n",
    "The analysis shows that anxiety levels spiked significantly during May and December, which align with common exam periods. The t-test confirmed a statistically significant difference (p < 0.05) between anxiety levels in exam months and non-exam months. This suggests that academic pressures are likely contributing to increased anxiety for this age group."
   ]
  }
 ],
 "metadata": {
  "kernelspec": {
   "display_name": "Python 3",
   "language": "python",
   "name": "python3"
  },
  "language_info": {
   "codemirror_mode": {
    "name": "ipython",
    "version": 3
   },
   "file_extension": ".py",
   "mimetype": "text/x-python",
   "name": "python",
   "nbconvert_exporter": "python",
   "pygments_lexer": "ipython3",
   "version": "3.9.6"
  }
 },
 "nbformat": 4,
 "nbformat_minor": 2
}

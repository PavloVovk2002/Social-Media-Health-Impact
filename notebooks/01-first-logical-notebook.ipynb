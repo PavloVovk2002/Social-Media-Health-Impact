{
 "cells": [
  {
   "cell_type": "code",
   "execution_count": null,
   "metadata": {},
   "outputs": [],
   "source": [
    "# 01-first-logical-notebook.ipynb\n",
    "\n",
    "# 1. Import libraries and functions\n",
    "import pandas as pd\n",
    "import seaborn as sns\n",
    "import matplotlib.pyplot as plt\n",
    "from src.load_data import load_data\n",
    "from src.clean_data import clean_data\n",
    "\n",
    "# 2. Load the data\n",
    "data_df = load_data('data/raw/South_East_Asia_Social_Media_MentalHealth.csv')\n",
    "\n",
    "# 3. Initial preview of the data\n",
    "data_df.head()\n",
    "\n",
    "# 4. Check for missing values\n",
    "missing_values = data_df.isna().sum()\n",
    "print(\"Missing values per column:\")\n",
    "print(missing_values)\n",
    "\n",
    "# 5. Clean the data\n",
    "data_df = clean_data(data_df)\n",
    "\n",
    "# Verify cleaning\n",
    "data_df.head()\n",
    "\n",
    "# 6. Summary statistics\n",
    "data_df.describe()\n",
    "\n",
    "# 7. Data Exploration\n",
    "\n",
    "# a. Daily Social Media Usage Across Age Groups\n",
    "sns.boxplot(x='Age Group', y='Daily SM Usage (hrs)', data=data_df)\n",
    "plt.title('Daily SM Usage Across Age Groups')\n",
    "plt.show()\n",
    "\n",
    "# b. Most Used Social Media Platform by Gender\n",
    "plt.figure(figsize=(12, 6))\n",
    "sns.countplot(x='Most Used SM Platform', hue='Gender', data=data_df, palette='pastel')\n",
    "plt.title('Most Used Social Media Platform by Gender')\n",
    "plt.show()\n",
    "\n",
    "# c. Daily SM Usage in Urban vs. Rural Areas\n",
    "sns.boxplot(x='Urban/Rural', y='Daily SM Usage (hrs)', data=data_df)\n",
    "plt.title('Daily SM Usage in Urban vs. Rural Areas')\n",
    "plt.show()\n",
    "\n",
    "# 8. Conclusion\n",
    "print(\"In this notebook we loaded, cleaned, and performed initial data exploration.\")\n"
   ]
  }
 ],
 "metadata": {
  "language_info": {
   "name": "python"
  }
 },
 "nbformat": 4,
 "nbformat_minor": 2
}
